{
 "cells": [
  {
   "cell_type": "markdown",
   "id": "1525d90e",
   "metadata": {},
   "source": [
    "# 22k-4005 Mujtaba Saqib, 22k-4115 Hilal Aziz"
   ]
  },
  {
   "cell_type": "markdown",
   "id": "ecd2f3e5",
   "metadata": {},
   "source": [
    "# Q1"
   ]
  },
  {
   "cell_type": "markdown",
   "id": "ab18885c",
   "metadata": {},
   "source": [
    "Q1: Read Turing's original paper on AI (Turing, 1950). In the paper, he discusses several potential objections\n",
    "to his proposed enterprise and his test for intelligence. Which objections still carry some weight? Are his\n",
    "refutations valid? Can you think of new objections arising from developments since he wrote the paper? In\n",
    "the paper, he predicts that by the year 2000, a computer will have a 30% chance of passing a five-minute\n",
    "Turing Test with an unskilled interrogator. Do you think this is reasonable?"
   ]
  },
  {
   "cell_type": "markdown",
   "id": "b2ad187e",
   "metadata": {},
   "source": [
    "Objections Which Carry Weight:\n",
    "•\tMathematical Objection\n",
    "•\tArgument From Consciousness\n",
    "•\tArguments from various disabilities\n",
    "•\tLady Lovelace’s\n",
    "\n",
    "Valid Refutations:\n",
    "•\tReligious Objections: \n",
    "                        Turing ignores this objection by saying that his approach focuses on thinking perspective rather than thinking on meta physical one. His refutation is valid because AI focuses on observable behavior rather than people religious beliefs.\n",
    "\n",
    "•\tHeads in Sand objections:\n",
    "                             Turing said our vision is to construct AI in such a way that we consider the consequences and designing AI in such a way that it is fruitful for us rather than destructive thing. This refutation is valid because now a days AI development emphasis on responsible and ethical considerations. \n",
    "\n",
    "•\tMathematical Objection: \n",
    "                          Turing accepted these objections, but these limitations does not prevent computer from being intelligent. This refutation is valid because AI is not designed to solve all possible problems.                                  \n",
    "\n",
    "•\tLady Lovelace’s objection: \n",
    "                             Turing suggests that computer might not learn like humans but they may suggest unexpected solutions to a problem. This refutation is valid as now a days many machine learning tools give such outcomes which are unexpected. \n",
    "\n",
    "New Objections:\n",
    "•\tSecurity/Privacy:  issues like privacy automatic weaponary, impact of AI on labour force or on working class.\n",
    "•\tBlack Box Problems: AI machine learning models sometime generates outcomes which are difficult to understand through which origin they came from.\n",
    "\n",
    "by the year 2000, a computer will have a 30% chance of passing a five-minute Turing Test with an unskilled interrogator?\n",
    "\n",
    "•\tThrough the passage of time AI has made enormous progress in terms of intelligence, but if we see intelligence as how human think or behave and if we see the turing test where a machine has to behave like a human and give wrong outcomes like human and sometimes correct outcomes so we think that the AI computer doesn’t had 30% chance of passing turing Test in early 2000’s.\n"
   ]
  },
  {
   "cell_type": "markdown",
   "id": "8962fb6c",
   "metadata": {},
   "source": [
    "# Q2"
   ]
  },
  {
   "cell_type": "markdown",
   "id": "504a3c7b",
   "metadata": {},
   "source": [
    "Q2: Examine the AI literature to discover whether or not the following tasks can currently be solved by\n",
    "computers. (Any five)\n",
    "1. Playing a decent game of table tennis (ping-pong).\n",
    "2. Driving in the centre of Karachi.\n",
    "3. Playing a decent game of bridge at a competitive level.\n",
    "4. Discovering and proving new mathematical theorems.\n",
    "5. Writing an intentionally funny story.\n",
    "6. Giving competent legal advice in a specialized area of law.\n",
    "7. Translating spoken English into spoken Urdu in real time."
   ]
  },
  {
   "cell_type": "markdown",
   "id": "8fffd4f0",
   "metadata": {},
   "source": [
    "2) No, The inability to enforce traffic laws, the erratic conduct of Karachi residents, congested traffic, and unforeseen circumstances will make driving a car in Karachi challenging.\n",
    "\n",
    "4) No, since deciphering a mathematical theorem and solving it calls for in-depth knowledge, originality, and sound mathematical reasoning.\n",
    "\n",
    "\n",
    "5) Yes, AI is capable of producing humorous stories to a certain degree, but whether or not a person thinks anything funny relies on their sense of humor.\n",
    "\n",
    "6) No, since in order for a machine to provide effective advice, it needs to fully comprehend the context, which includes difficult-to-understand ethical considerations. AI can assist in this regard, but it is not capable of providing flawless legal advice. \n",
    "\n",
    "7) Yes, It can translate commonly or widely used words, but it may not be as accurate when translating words from different cultures, such as Punjabi or Sindhi. While it may eventually translate these words, the accuracy might be lower."
   ]
  },
  {
   "cell_type": "markdown",
   "id": "0ecd6dfc",
   "metadata": {},
   "source": [
    "# Q3"
   ]
  },
  {
   "cell_type": "markdown",
   "id": "43a8563c",
   "metadata": {},
   "source": [
    "Q3: Choose a domain that you are familiar with, and write a PAGE description of an agent for the environment.\n",
    "Characterize the environment as being accessible, deterministic, episodic, static, and continuous or not. What\n",
    "agent architecture is best for this domain?"
   ]
  },
  {
   "cell_type": "markdown",
   "id": "138ea9ed",
   "metadata": {},
   "source": [
    "1.Functionalities: Vital Signs Monitoring, Activity Tracking, Sleep Analysis, EKG and Arrhythmia Detection, Medication Reminders\n",
    "    Health Data Analysis and Advice, Emergency Alert, Integration with Healthcare Systems\n",
    "    \n",
    "2) Environment Characterization\n",
    "\n",
    "•Accessible: The environment is partially accessible. The smart watch has access to a range of physiological and activity data from the user but lacks full access to the user's environmental context and internal health state without additional medical tests.\n",
    "\n",
    "•Deterministic: The environment is not deterministic. While the smart watch can predict certain outcomes based on data trends, individual health responses and external factors introduce unpredictability.\n",
    "\n",
    "•Episodic: The environment is not episodic; it is continuous. Health monitoring and advice provision are ongoing processes without distinct episodes.\n",
    "\n",
    "•Static: The environment is dynamic, not static, as the user's health status and environmental conditions can change frequently.\n",
    "\n",
    "•Continuous: The environment is continuous. Health monitoring and lifestyle advice need to be provided in real-time or near-real-time, without clear breaks.\n",
    "\n",
    "\n",
    "Recommended Agent Architecture\n",
    "given the complexity and dynamic nature of the healthcare and wellness domain, a Hybrid Agent Architecture combining both reactive and deliberative components would be most suitable. This architecture allows the smart watch to respond in real-time to critical health alerts while also supporting longer-term planning and decision-making based on accumulated health data"
   ]
  },
  {
   "cell_type": "markdown",
   "id": "d78ee5f0",
   "metadata": {},
   "source": [
    "# Q4"
   ]
  },
  {
   "cell_type": "markdown",
   "id": "e9e8bc42",
   "metadata": {},
   "source": [
    "Q4: For each of the following activities, give a PEAS description of the task environment. (Any five)\n",
    "- Playing soccer.\n",
    "- Exploring the subsurface of Arabian Sea.\n",
    "- Shopping for used AI books on the Internet.\n",
    "- Playing a tennis match.\n",
    "- Practicing tennis against a wall.\n",
    "- Performing a high jump.\n",
    "- Knitting a sweater.\n",
    "- Bidding on an item at an auction."
   ]
  },
  {
   "cell_type": "raw",
   "id": "e062278d",
   "metadata": {},
   "source": [
    "Playing soccer\n",
    "\n",
    "Environment Type: Partially observable, stochastic, sequential, dynamic, continuous, multiagent\n",
    "Performance Measure: Scoring goals, defending, winning, injuries and teamwork\n",
    "Environment: Soccer playground, Players, ball, goals, referees\n",
    "Actuators: Player's legs, head and hands\n",
    "Sensors: Camera, orientation sensor, players locator"
   ]
  },
  {
   "cell_type": "raw",
   "id": "8806498f",
   "metadata": {},
   "source": [
    "Exploring the subsurface of Arabian Sea.\n",
    "\n",
    "Environment Type: Partially observable, stochastic, sequential, dynamic, continuous, multiagent\n",
    "Performance Measure: Images quality, video quality, safety\n",
    "Environment: Ocean, water, organisms\n",
    "Actuators: Mobile diver, steering, brake, accelerator\n",
    "Sensors: Depth sensor, GPS, Camera"
   ]
  },
  {
   "cell_type": "raw",
   "id": "591374af",
   "metadata": {},
   "source": [
    "Shopping for used AI books on the Internet\n",
    "\n",
    "Environment Type: Partially observable, deterministic, sequential, static, discrete, single agent\n",
    "Performance Measure: Price, authors, book review, interested books, cost minimization\n",
    "Environment: Websites, vendors, shippers\n",
    "Actuators: Keyboard, mouse (hands)\n",
    "Sensors: Camera, price monitor"
   ]
  },
  {
   "cell_type": "raw",
   "id": "a0a0699f",
   "metadata": {},
   "source": [
    "Performing a high jump\n",
    "\n",
    "Environment Type: Fully observable, stochastic, sequential, static, continuous, single agent\n",
    "Performance Measure: Height range, safety landing\n",
    "Environment: Wall\n",
    "Actuators: Jumping apparatus (e.g., legs)\n",
    "Sensors: Camera, height sensor"
   ]
  },
  {
   "cell_type": "raw",
   "id": "95619177",
   "metadata": {},
   "source": [
    "Bidding on an item at an auction\n",
    "\n",
    "Environment Type: Fully observable, stochastic, sequential, static, discrete, multiagent\n",
    "Performance Measure: Cost, value, quality, winning\n",
    "Environment: Items, bidders\n",
    "Actuators: Speaker\n",
    "Sensors: Camera, price monitor"
   ]
  },
  {
   "cell_type": "markdown",
   "id": "6e9685d7",
   "metadata": {},
   "source": [
    "# Q5"
   ]
  },
  {
   "cell_type": "markdown",
   "id": "efe5df17",
   "metadata": {},
   "source": [
    "Q5: For each of the following assertions, say whether it is true or false and support your answer with\n",
    "examples or counter examples where appropriate. (Any five)\n",
    "1. An agent thatsenses only partial information about the state cannot be perfectly rational.\n",
    "2. There exist task environments in which no pure reflex agent can behave rationally.\n",
    "3. There exists a task environment in which every agent isrational.\n",
    "4. The input to an agent program is the same as the input to the agent function.\n",
    "5. Every agent function isimplementable by some program/machine combination.\n",
    "6. Suppose an agentselects its action uniformly at random from the set of possible actions. There exists a\n",
    "deterministic task environment in which this agent is rational.\n",
    "7. It is possible for a given agent to be perfectly rational in two distinct task environments."
   ]
  },
  {
   "cell_type": "markdown",
   "id": "a73568a7",
   "metadata": {},
   "source": [
    "1) False. The ability to make wise decisions based on the sensor data obtained is referred to as reason.As an agent can only act on what it observes, it is operating as rationally as it can while having some factors unaccounted for via no fault of its own, hence it would be foolish to blame it for not responding rationally for having just incomplete information.\n",
    "\n",
    "2) True. In a partially visible environment, a pure reflex agent cannot obtain an optimal state estimate since it disregards prior perceptions. However, because of its extensive multitasking, there's a chance that the agent will behave rationally in the right situation. \n",
    "\n",
    "3) True, It is true that there are countless task settings that might be made, and that there is probably at least one out there where each agent is rational in its action.\n",
    "\n",
    "4) True, because the inputs are the percepts which remain same for the agent functions and program\n",
    "\n",
    "5) False,  because some agents need infinite resources or solving problems which seems impossible.\n"
   ]
  },
  {
   "cell_type": "markdown",
   "id": "399f4444",
   "metadata": {},
   "source": []
  },
  {
   "cell_type": "markdown",
   "id": "7599ad42",
   "metadata": {},
   "source": [
    "# Q6"
   ]
  },
  {
   "cell_type": "markdown",
   "id": "1d35f2a4",
   "metadata": {},
   "source": [
    "Q6: You are clear about uninformed and informed strategies now. The example discussed in the class\n",
    "regarding Romania map has to get implemented in this assignment.\n",
    "\n",
    "The map is directly taken up from your book together with the heuristics table. The task is to reach\n",
    "from a particular source to destination using different strategies. This means that user will be\n",
    "facilitated with the option of choosing any random source and destination point at run time.\n",
    "Following are the strategies to be implemented.\n",
    "a) Breadth first search\n",
    "b) Uniform cost search\n",
    "c) Greedy best firstsearch\n",
    "d) Iterative deepening depth first search\n",
    "A comparison of these four needs to be done. Complete list of pathway and path cost of each\n",
    "algorithm has to be calculated so that it shows clearly that which algorithm is best out of all in\n",
    "ascending order."
   ]
  },
  {
   "cell_type": "markdown",
   "id": "b85894c8",
   "metadata": {},
   "source": [
    "a) Breadth first search\n",
    "b) Uniform cost search"
   ]
  },
  {
   "cell_type": "code",
   "execution_count": 3,
   "id": "b0c74daa",
   "metadata": {},
   "outputs": [
    {
     "name": "stdout",
     "output_type": "stream",
     "text": [
      "BFS path from Arad to Bucharest: ['Arad', 'Sibiu', 'Fagaras', 'Bucharest']\n",
      "UCS path from Arad to Bucharest with total cost 418: ['Arad', 'Sibiu', 'Rimnicu Vilcea', 'Pitesti', 'Bucharest']\n"
     ]
    }
   ],
   "source": [
    "import heapq\n",
    "\n",
    "#representation of the romania map as a graph\n",
    "romania_map = {\n",
    "    'Arad': {'Zerind': 75, 'Sibiu': 140, 'Timisoara': 118},\n",
    "    'Zerind': {'Arad': 75, 'Oradea': 71},\n",
    "    'Oradea': {'Zerind': 71, 'Sibiu': 151},\n",
    "    'Sibiu': {'Oradea': 151, 'Arad': 140, 'Fagaras': 99, 'Rimnicu Vilcea': 80},\n",
    "    'Timisoara': {'Arad': 118, 'Lugoj': 111},\n",
    "    'Lugoj': {'Timisoara': 111, 'Mehadia': 70},\n",
    "    'Mehadia': {'Lugoj': 70, 'Drobeta': 75},\n",
    "    'Drobeta': {'Mehadia': 75, 'Craiova': 120},\n",
    "    'Craiova': {'Drobeta': 120, 'Rimnicu Vilcea': 146, 'Pitesti': 138},\n",
    "    'Rimnicu Vilcea': {'Sibiu': 80, 'Craiova': 146, 'Pitesti': 97},\n",
    "    'Fagaras': {'Sibiu': 99, 'Bucharest': 211},\n",
    "    'Pitesti': {'Rimnicu Vilcea': 97, 'Craiova': 138, 'Bucharest': 101},\n",
    "    'Bucharest': {'Fagaras': 211, 'Pitesti': 101, 'Giurgiu': 90, 'Urziceni': 85},\n",
    "    'Giurgiu': {'Bucharest': 90},\n",
    "    'Urziceni': {'Bucharest': 85, 'Hirsova': 98, 'Vaslui': 142},\n",
    "    'Hirsova': {'Urziceni': 98, 'Eforie': 86},\n",
    "    'Eforie': {'Hirsova': 86},\n",
    "    'Vaslui': {'Urziceni': 142, 'Iasi': 92},\n",
    "    'Iasi': {'Vaslui': 92, 'Neamt': 87},\n",
    "    'Neamt': {'Iasi': 87}\n",
    "}\n",
    "\n",
    "#heuristics straight-line distance to Bucharest table for the informed strategies\n",
    "heuristics = {\n",
    "    'Arad': 366, 'Bucharest': 0, 'Craiova': 160, 'Drobeta': 242, 'Eforie': 161,\n",
    "    'Fagaras': 176, 'Giurgiu': 77, 'Hirsova': 151, 'Iasi': 226, 'Lugoj': 244,\n",
    "    'Mehadia': 241, 'Neamt': 234, 'Oradea': 380, 'Pitesti': 100, 'Rimnicu Vilcea': 193,\n",
    "    'Sibiu': 253, 'Timisoara': 329, 'Urziceni': 80, 'Vaslui': 199, 'Zerind': 374\n",
    "}\n",
    "\n",
    "#breadth-first search algorithm\n",
    "def bfs(graph, start, goal):\n",
    "    visited = set()  # set to keep track of visited nodes.\n",
    "    queue = []  # initialize a queue\n",
    "    queue.append((start, [start]))  #enqueue the start node and the path to it\n",
    "\n",
    "    while queue:\n",
    "        (vertex, path) = queue.pop(0)\n",
    "        if vertex not in visited:\n",
    "            visited.add(vertex)\n",
    "            if vertex == goal:\n",
    "                return path  #return the path if goal is reached\n",
    "            for neighbor in graph[vertex]:\n",
    "                if neighbor not in visited:\n",
    "                    queue.append((neighbor, path + [neighbor])) #enqueue the node and path to it\n",
    "    return None\n",
    "\n",
    "#uniform cost search algorithm\n",
    "def ucs(graph, start, goal):\n",
    "    visited = set()\n",
    "    queue = []\n",
    "    heapq.heappush(queue, (0, start, [start]))  #priority queue\n",
    "\n",
    "    while queue:\n",
    "        (cost, vertex, path) = heapq.heappop(queue)\n",
    "        if vertex not in visited:\n",
    "            visited.add(vertex)\n",
    "            if vertex == goal:\n",
    "                return (cost, path)  #return the cost and path if goal is reached\n",
    "            for neighbor, weight in graph[vertex].items():\n",
    "                if neighbor not in visited:\n",
    "                    heapq.heappush(queue, (cost + weight, neighbor, path + [neighbor]))\n",
    "    return None\n",
    "\n",
    "#test bfs\n",
    "start_city = 'Arad'\n",
    "goal_city = 'Bucharest'\n",
    "bfs_path = bfs(romania_map, start_city, goal_city)\n",
    "print(f\"BFS path from {start_city} to {goal_city}: {bfs_path}\")\n",
    "\n",
    "# Test UCS\n",
    "ucs_cost, ucs_path = ucs(romania_map, start_city, goal_city)\n",
    "print(f\"UCS path from {start_city} to {goal_city} with total cost {ucs_cost}: {ucs_path}\")"
   ]
  },
  {
   "cell_type": "markdown",
   "id": "f99763cc",
   "metadata": {},
   "source": [
    "c) Greedy best firstsearch\n",
    "d) Iterative deepening depth first search"
   ]
  },
  {
   "cell_type": "code",
   "execution_count": 5,
   "id": "ffbf4b0f",
   "metadata": {},
   "outputs": [
    {
     "name": "stdout",
     "output_type": "stream",
     "text": [
      "Greedy Best-First Search path from Arad to Bucharest: ['Arad', 'Sibiu', 'Fagaras', 'Bucharest']\n",
      "Iterative Deepening Depth-First Search path from Arad to Bucharest: ['Arad', 'Zerind', 'Oradea', 'Sibiu', 'Fagaras', 'Bucharest']\n"
     ]
    }
   ],
   "source": [
    "romania_map = {\n",
    "    'Arad': {'Zerind': 75, 'Sibiu': 140, 'Timisoara': 118},\n",
    "    'Zerind': {'Arad': 75, 'Oradea': 71},\n",
    "    'Oradea': {'Zerind': 71, 'Sibiu': 151},\n",
    "    'Sibiu': {'Oradea': 151, 'Arad': 140, 'Fagaras': 99, 'Rimnicu Vilcea': 80},\n",
    "    'Timisoara': {'Arad': 118, 'Lugoj': 111},\n",
    "    'Lugoj': {'Timisoara': 111, 'Mehadia': 70},\n",
    "    'Mehadia': {'Lugoj': 70, 'Drobeta': 75},\n",
    "    'Drobeta': {'Mehadia': 75, 'Craiova': 120},\n",
    "    'Craiova': {'Drobeta': 120, 'Rimnicu Vilcea': 146, 'Pitesti': 138},\n",
    "    'Rimnicu Vilcea': {'Sibiu': 80, 'Craiova': 146, 'Pitesti': 97},\n",
    "    'Fagaras': {'Sibiu': 99, 'Bucharest': 211},\n",
    "    'Pitesti': {'Rimnicu Vilcea': 97, 'Craiova': 138, 'Bucharest': 101},\n",
    "    'Bucharest': {'Fagaras': 211, 'Pitesti': 101, 'Giurgiu': 90, 'Urziceni': 85},\n",
    "    'Giurgiu': {'Bucharest': 90},\n",
    "    'Urziceni': {'Bucharest': 85, 'Hirsova': 98, 'Vaslui': 142},\n",
    "    'Hirsova': {'Urziceni': 98, 'Eforie': 86},\n",
    "    'Eforie': {'Hirsova': 86},\n",
    "    'Vaslui': {'Urziceni': 142, 'Iasi': 92},\n",
    "    'Iasi': {'Vaslui': 92, 'Neamt': 87},\n",
    "    'Neamt': {'Iasi': 87}\n",
    "}\n",
    "\n",
    "#heuristics straight-line distance to bucharest table for the informed strategies\n",
    "heuristics = {\n",
    "    'Arad': 366, 'Bucharest': 0, 'Craiova': 160, 'Drobeta': 242, 'Eforie': 161,\n",
    "    'Fagaras': 176, 'Giurgiu': 77, 'Hirsova': 151, 'Iasi': 226, 'Lugoj': 244,\n",
    "    'Mehadia': 241, 'Neamt': 234, 'Oradea': 380, 'Pitesti': 100, 'Rimnicu Vilcea': 193,\n",
    "    'Sibiu': 253, 'Timisoara': 329, 'Urziceni': 80, 'Vaslui': 199, 'Zerind': 374\n",
    "}\n",
    "\n",
    "#implementing greedy best first search for the romanian map\n",
    "def greedy_best_first_search(graph, heuristics, start, goal):\n",
    "    visited = set()  # set to keep track of visited nodes.\n",
    "    queue = []  # initialize a priority queue\n",
    "    heapq.heappush(queue, (heuristics[start], start, [start]))\n",
    "\n",
    "    while queue:\n",
    "        #pop the vertex with the lowest heuristic value\n",
    "        _, current, path = heapq.heappop(queue)\n",
    "        if current == goal:\n",
    "            return path  # return the path if goal is reached\n",
    "\n",
    "        visited.add(current)\n",
    "\n",
    "        #go through all the neighbors of the current node\n",
    "        for neighbor in graph[current]:\n",
    "            if neighbor not in visited:\n",
    "                # calculate heuristic for the neighbor\n",
    "                priority = heuristics[neighbor]\n",
    "                # add the neighbor to the queue with its heuristic value\n",
    "                heapq.heappush(queue, (priority, neighbor, path + [neighbor]))\n",
    "    return None\n",
    "\n",
    "#implementing iterative deepening depth first search for the romanian map\n",
    "def iddfs(graph, start, goal, max_depth):\n",
    "    #recursive depth limited search\n",
    "    def dls(current, goal, depth):\n",
    "        if depth == 0:\n",
    "            return None if current != goal else [current]\n",
    "        if current == goal:\n",
    "            return [current]\n",
    "        for neighbor in graph[current]:\n",
    "            if neighbor not in visited:\n",
    "                visited.add(neighbor)\n",
    "                path = dls(neighbor, goal, depth - 1)\n",
    "                if path is not None:\n",
    "                    return [current] + path\n",
    "        return None\n",
    "    \n",
    "    for depth in range(max_depth):\n",
    "        visited = set([start])\n",
    "        path = dls(start, goal, depth)\n",
    "        if path is not None:\n",
    "            return path\n",
    "    return None\n",
    "\n",
    "#example usage of greedy best first search\n",
    "start_city = 'Arad'\n",
    "goal_city = 'Bucharest'\n",
    "gbfs_path = greedy_best_first_search(romania_map, heuristics, start_city, goal_city)\n",
    "print(f\"Greedy Best-First Search path from {start_city} to {goal_city}: {gbfs_path}\")\n",
    "\n",
    "#example usage of iterative deepening depth first search\n",
    "max_depth = 20  # Example depth limit\n",
    "iddfs_path = iddfs(romania_map, start_city, goal_city, max_depth)\n",
    "print(f\"Iterative Deepening Depth-First Search path from {start_city} to {goal_city}: {iddfs_path}\")"
   ]
  },
  {
   "cell_type": "markdown",
   "id": "7ac847fa",
   "metadata": {},
   "source": [
    "# Q7"
   ]
  },
  {
   "cell_type": "markdown",
   "id": "06bd11ab",
   "metadata": {},
   "source": [
    "Q7: N-Queens problem: There is an n x n grid where the value of n is 4≤n≤8 (user shall be asked at run time\n",
    "for the value of n he wants to keep). Your task is to place n queens on this board. As per the rules of chess, a\n",
    "queen should have no other queen in its respective column, neither should it have any other queen in its row\n",
    "nor should it have any within its diagonal cells. You can consider this case as placing each queen individually\n",
    "per column such that it does not violate any of the constraints mentioned. It’s quite easy to find solution\n",
    "manually but your task is now to code it and find the correct positions for the queens.\n",
    "\n",
    "This problem has to be solved through the concept of backtracking. So initially you will place the first\n",
    "queen randomly at any location within column 1. With respect to its location, now next n-1 queens’\n",
    "domain i.e. the places where they can be placed might shrink up.\n",
    "E.g. in this case 4 queens have to placed and Q1 is placed on (0,0) so x positions represent the illegal\n",
    "places now where other queens cannot be placed due to Q1 placement. This means for rest of the\n",
    "queens some positions have been considered as illegal.\n",
    "Further up, when we will move forward, there might be a point where domain gets empty for any\n",
    "particular queen, at that instance apply backtrack concept, which means that location of previous\n",
    "queen will have to get changed.\n",
    "Advise: Start building up your logic first on 4 queen problem so that you may exactly understand the\n",
    "flow then go for making a generalized code version of n queens’ placement."
   ]
  },
  {
   "cell_type": "code",
   "execution_count": 11,
   "id": "d772b5b0",
   "metadata": {},
   "outputs": [
    {
     "name": "stdout",
     "output_type": "stream",
     "text": [
      "enter the value of n (4≤n≤8) 7\n",
      "one of the solution \n",
      "[1, 6, 3, 5, 4, 2, 0]\n"
     ]
    }
   ],
   "source": [
    "import random\n",
    "\n",
    "def calculate_attacks(queens):\n",
    "    attacks = 0\n",
    "    for i in range(len(queens)):\n",
    "        for j in range(i+1,len(queens)):\n",
    "            #checks for same row or diagonal attacks\n",
    "            if queens[i]==queens[j] or abs(queens[i]-queens[j])==j-i:\n",
    "                attacks+=1\n",
    "    return attacks\n",
    "\n",
    "def generate_neighbors(state):\n",
    "    neighbors = []\n",
    "    for i in range(len(state)):\n",
    "        for j in range(len(state)):\n",
    "            if state[i] != j:\n",
    "                #move the queen to the new row in the same column\n",
    "                neighbor = state.copy()\n",
    "                neighbor[i] = j\n",
    "                neighbors.append(neighbor)\n",
    "    return neighbors\n",
    "\n",
    "def hill_climbing(n):\n",
    "    #initialize a random starting state\n",
    "    current = list(range(n))\n",
    "    random.shuffle(current)\n",
    "    \n",
    "    while True:\n",
    "        neighbors = generate_neighbors(current)\n",
    "        #select the neighbor with the least number of attacks\n",
    "        next_state = min(neighbors, key=calculate_attacks)\n",
    "        \n",
    "        #if no neighbor has fewer attacks, we've reached a local maximum\n",
    "        if calculate_attacks(next_state) >= calculate_attacks(current):\n",
    "            break\n",
    "        current = next_state\n",
    "    \n",
    "    return current\n",
    "\n",
    "#ask the user for the size of the board\n",
    "n = int(input(\"enter the value of n (4≤n≤8) \"))\n",
    "sol = hill_climbing(n)\n",
    "print(\"one of the solution \")\n",
    "print(sol)"
   ]
  },
  {
   "cell_type": "code",
   "execution_count": null,
   "id": "5c76393a",
   "metadata": {},
   "outputs": [],
   "source": []
  }
 ],
 "metadata": {
  "kernelspec": {
   "display_name": "Python 3 (ipykernel)",
   "language": "python",
   "name": "python3"
  },
  "language_info": {
   "codemirror_mode": {
    "name": "ipython",
    "version": 3
   },
   "file_extension": ".py",
   "mimetype": "text/x-python",
   "name": "python",
   "nbconvert_exporter": "python",
   "pygments_lexer": "ipython3",
   "version": "3.11.4"
  }
 },
 "nbformat": 4,
 "nbformat_minor": 5
}
